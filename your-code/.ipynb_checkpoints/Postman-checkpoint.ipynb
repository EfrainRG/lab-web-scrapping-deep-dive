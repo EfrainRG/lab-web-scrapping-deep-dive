{
 "cells": [
  {
   "cell_type": "code",
   "execution_count": 1,
   "metadata": {},
   "outputs": [],
   "source": [
    "import requests"
   ]
  },
  {
   "cell_type": "code",
   "execution_count": 5,
   "metadata": {},
   "outputs": [
    {
     "name": "stdout",
     "output_type": "stream",
     "text": [
      "<Response [200]>\n",
      "[{'id': 1, 'Titulo': 'Post 1'}, {'id': 2, 'Titulo': 'Post 2'}, {'id': 3, 'Titulo': 'Post 3'}]\n"
     ]
    }
   ],
   "source": [
    "respuesta = requests.get('https://my-json-server.typicode.com/germfy/demo/posts') # https://my-json-server.typicode.com/germfy/demo/posts\n",
    "print (respuesta)\n",
    "resultados = respuesta.json()\n",
    "print (resultados)"
   ]
  },
  {
   "cell_type": "code",
   "execution_count": 6,
   "metadata": {},
   "outputs": [
    {
     "data": {
      "text/plain": [
       "{'id': 1, 'Titulo': 'Post 1'}"
      ]
     },
     "execution_count": 6,
     "metadata": {},
     "output_type": "execute_result"
    }
   ],
   "source": [
    "resultados[0]"
   ]
  },
  {
   "cell_type": "code",
   "execution_count": 7,
   "metadata": {},
   "outputs": [
    {
     "name": "stdout",
     "output_type": "stream",
     "text": [
      "{'login': 'germfy', 'id': 11635442, 'node_id': 'MDQ6VXNlcjExNjM1NDQy', 'avatar_url': 'https://avatars0.githubusercontent.com/u/11635442?v=4', 'gravatar_id': '', 'url': 'https://api.github.com/users/germfy', 'html_url': 'https://github.com/germfy', 'followers_url': 'https://api.github.com/users/germfy/followers', 'following_url': 'https://api.github.com/users/germfy/following{/other_user}', 'gists_url': 'https://api.github.com/users/germfy/gists{/gist_id}', 'starred_url': 'https://api.github.com/users/germfy/starred{/owner}{/repo}', 'subscriptions_url': 'https://api.github.com/users/germfy/subscriptions', 'organizations_url': 'https://api.github.com/users/germfy/orgs', 'repos_url': 'https://api.github.com/users/germfy/repos', 'events_url': 'https://api.github.com/users/germfy/events{/privacy}', 'received_events_url': 'https://api.github.com/users/germfy/received_events', 'type': 'User', 'site_admin': False, 'name': 'German Dominguez', 'company': None, 'blog': '', 'location': 'Mexico City', 'email': None, 'hireable': None, 'bio': None, 'public_repos': 87, 'public_gists': 3, 'followers': 38, 'following': 49, 'created_at': '2015-03-24T18:08:43Z', 'updated_at': '2020-05-06T22:47:12Z'}\n"
     ]
    }
   ],
   "source": [
    "respuesta = requests.get('https://api.github.com/users/germfy')\n",
    "resultados = respuesta.json()\n",
    "print(resultados)"
   ]
  },
  {
   "cell_type": "code",
   "execution_count": 8,
   "metadata": {},
   "outputs": [
    {
     "data": {
      "text/plain": [
       "'germfy'"
      ]
     },
     "execution_count": 8,
     "metadata": {},
     "output_type": "execute_result"
    }
   ],
   "source": [
    "resultados['login']"
   ]
  },
  {
   "cell_type": "code",
   "execution_count": 10,
   "metadata": {},
   "outputs": [
    {
     "name": "stdout",
     "output_type": "stream",
     "text": [
      "<Response [201]>\n"
     ]
    }
   ],
   "source": [
    "respuesta = requests.post('https://my-json-server.typicode.com/germfy/demo/posts',\n",
    "                         data={'Titulo':'Nuevo post de Rey'})\n",
    "print(respuesta)"
   ]
  },
  {
   "cell_type": "code",
   "execution_count": 11,
   "metadata": {},
   "outputs": [
    {
     "name": "stdout",
     "output_type": "stream",
     "text": [
      "{'Titulo': 'Nuevo post de Rey', 'id': 4}\n"
     ]
    }
   ],
   "source": [
    "resultados = respuesta.json()\n",
    "print(resultados)"
   ]
  },
  {
   "cell_type": "code",
   "execution_count": 12,
   "metadata": {},
   "outputs": [
    {
     "name": "stdout",
     "output_type": "stream",
     "text": [
      "{}\n"
     ]
    }
   ],
   "source": [
    "respuesta = requests.delete('https://my-json-server.typicode.com/germfy/demo/posts/1')\n",
    "resultados = respuesta.json()\n",
    "print(resultados)"
   ]
  },
  {
   "cell_type": "code",
   "execution_count": 13,
   "metadata": {},
   "outputs": [],
   "source": [
    "import pandas as pd"
   ]
  },
  {
   "cell_type": "code",
   "execution_count": 17,
   "metadata": {},
   "outputs": [
    {
     "name": "stdout",
     "output_type": "stream",
     "text": [
      "           id                           node_id  \\\n",
      "0    74802535  MDEwOlJlcG9zaXRvcnk3NDgwMjUzNQ==   \n",
      "1   122155517  MDEwOlJlcG9zaXRvcnkxMjIxNTU1MTc=   \n",
      "2    70033322  MDEwOlJlcG9zaXRvcnk3MDAzMzMyMg==   \n",
      "3   168959684  MDEwOlJlcG9zaXRvcnkxNjg5NTk2ODQ=   \n",
      "4   165965255  MDEwOlJlcG9zaXRvcnkxNjU5NjUyNTU=   \n",
      "5   124152595  MDEwOlJlcG9zaXRvcnkxMjQxNTI1OTU=   \n",
      "6   142131897  MDEwOlJlcG9zaXRvcnkxNDIxMzE4OTc=   \n",
      "7   196247129  MDEwOlJlcG9zaXRvcnkxOTYyNDcxMjk=   \n",
      "8   176639830  MDEwOlJlcG9zaXRvcnkxNzY2Mzk4MzA=   \n",
      "9   234176944  MDEwOlJlcG9zaXRvcnkyMzQxNzY5NDQ=   \n",
      "10   32817674  MDEwOlJlcG9zaXRvcnkzMjgxNzY3NA==   \n",
      "11   63393803  MDEwOlJlcG9zaXRvcnk2MzM5MzgwMw==   \n",
      "12   64183521  MDEwOlJlcG9zaXRvcnk2NDE4MzUyMQ==   \n",
      "13   64184556  MDEwOlJlcG9zaXRvcnk2NDE4NDU1Ng==   \n",
      "14  158450003  MDEwOlJlcG9zaXRvcnkxNTg0NTAwMDM=   \n",
      "15   76983103  MDEwOlJlcG9zaXRvcnk3Njk4MzEwMw==   \n",
      "16   76982517  MDEwOlJlcG9zaXRvcnk3Njk4MjUxNw==   \n",
      "17  165168810  MDEwOlJlcG9zaXRvcnkxNjUxNjg4MTA=   \n",
      "18  159749993  MDEwOlJlcG9zaXRvcnkxNTk3NDk5OTM=   \n",
      "19  175105373  MDEwOlJlcG9zaXRvcnkxNzUxMDUzNzM=   \n",
      "20  234819289  MDEwOlJlcG9zaXRvcnkyMzQ4MTkyODk=   \n",
      "21  261894608  MDEwOlJlcG9zaXRvcnkyNjE4OTQ2MDg=   \n",
      "22   85243231  MDEwOlJlcG9zaXRvcnk4NTI0MzIzMQ==   \n",
      "23   65769833  MDEwOlJlcG9zaXRvcnk2NTc2OTgzMw==   \n",
      "24  169307764  MDEwOlJlcG9zaXRvcnkxNjkzMDc3NjQ=   \n",
      "25   90398226  MDEwOlJlcG9zaXRvcnk5MDM5ODIyNg==   \n",
      "26  128430136  MDEwOlJlcG9zaXRvcnkxMjg0MzAxMzY=   \n",
      "27  196648261  MDEwOlJlcG9zaXRvcnkxOTY2NDgyNjE=   \n",
      "28   74801784  MDEwOlJlcG9zaXRvcnk3NDgwMTc4NA==   \n",
      "29  147886967  MDEwOlJlcG9zaXRvcnkxNDc4ODY5Njc=   \n",
      "\n",
      "                                         name  \\\n",
      "0   analisisinstitutodelfracaso-1480131259852   \n",
      "1               angular4-on-nginx-with-docker   \n",
      "2                                 Aprendiendo   \n",
      "3                         awesome-vue-graphql   \n",
      "4                          basic-auth-Oct2018   \n",
      "5                             BBEight-Bluemix   \n",
      "6                         bluemix-letsencrypt   \n",
      "7                 bootcampMx-get-started-node   \n",
      "8                              chatbotbackend   \n",
      "9                          clases_datamex1019   \n",
      "10                               clickincrazy   \n",
      "11                 climaarmando-1468559934681   \n",
      "12                 climaarmando-1469500292490   \n",
      "13                         climatallerbluemix   \n",
      "14                           cloth-simulation   \n",
      "15                       cloud-config-germand   \n",
      "16        config-server-germand-1482259330889   \n",
      "17                           crunchbasepirata   \n",
      "18                             css-collection   \n",
      "19                             d3_in_action_2   \n",
      "20                                datamex0120   \n",
      "21                                       demo   \n",
      "22                                demognp2016   \n",
      "23               devconnect2016-1471300901026   \n",
      "24                                   dotfiles   \n",
      "25                          encuestabluemixmx   \n",
      "26                           escape_the_mines   \n",
      "27                                     fabric   \n",
      "28                        failureinstanalisys   \n",
      "29                                file-upload   \n",
      "\n",
      "                                           full_name  private  \\\n",
      "0   germfy/analisisinstitutodelfracaso-1480131259852    False   \n",
      "1               germfy/angular4-on-nginx-with-docker    False   \n",
      "2                                 germfy/Aprendiendo    False   \n",
      "3                         germfy/awesome-vue-graphql    False   \n",
      "4                          germfy/basic-auth-Oct2018    False   \n",
      "5                             germfy/BBEight-Bluemix    False   \n",
      "6                         germfy/bluemix-letsencrypt    False   \n",
      "7                 germfy/bootcampMx-get-started-node    False   \n",
      "8                              germfy/chatbotbackend    False   \n",
      "9                          germfy/clases_datamex1019    False   \n",
      "10                               germfy/clickincrazy    False   \n",
      "11                 germfy/climaarmando-1468559934681    False   \n",
      "12                 germfy/climaarmando-1469500292490    False   \n",
      "13                         germfy/climatallerbluemix    False   \n",
      "14                           germfy/cloth-simulation    False   \n",
      "15                       germfy/cloud-config-germand    False   \n",
      "16        germfy/config-server-germand-1482259330889    False   \n",
      "17                           germfy/crunchbasepirata    False   \n",
      "18                             germfy/css-collection    False   \n",
      "19                             germfy/d3_in_action_2    False   \n",
      "20                                germfy/datamex0120    False   \n",
      "21                                       germfy/demo    False   \n",
      "22                                germfy/demognp2016    False   \n",
      "23               germfy/devconnect2016-1471300901026    False   \n",
      "24                                   germfy/dotfiles    False   \n",
      "25                          germfy/encuestabluemixmx    False   \n",
      "26                           germfy/escape_the_mines    False   \n",
      "27                                     germfy/fabric    False   \n",
      "28                        germfy/failureinstanalisys    False   \n",
      "29                                germfy/file-upload    False   \n",
      "\n",
      "                                                owner  \\\n",
      "0   {'login': 'germfy', 'id': 11635442, 'node_id':...   \n",
      "1   {'login': 'germfy', 'id': 11635442, 'node_id':...   \n",
      "2   {'login': 'germfy', 'id': 11635442, 'node_id':...   \n",
      "3   {'login': 'germfy', 'id': 11635442, 'node_id':...   \n",
      "4   {'login': 'germfy', 'id': 11635442, 'node_id':...   \n",
      "5   {'login': 'germfy', 'id': 11635442, 'node_id':...   \n",
      "6   {'login': 'germfy', 'id': 11635442, 'node_id':...   \n",
      "7   {'login': 'germfy', 'id': 11635442, 'node_id':...   \n",
      "8   {'login': 'germfy', 'id': 11635442, 'node_id':...   \n",
      "9   {'login': 'germfy', 'id': 11635442, 'node_id':...   \n",
      "10  {'login': 'germfy', 'id': 11635442, 'node_id':...   \n",
      "11  {'login': 'germfy', 'id': 11635442, 'node_id':...   \n",
      "12  {'login': 'germfy', 'id': 11635442, 'node_id':...   \n",
      "13  {'login': 'germfy', 'id': 11635442, 'node_id':...   \n",
      "14  {'login': 'germfy', 'id': 11635442, 'node_id':...   \n",
      "15  {'login': 'germfy', 'id': 11635442, 'node_id':...   \n",
      "16  {'login': 'germfy', 'id': 11635442, 'node_id':...   \n",
      "17  {'login': 'germfy', 'id': 11635442, 'node_id':...   \n",
      "18  {'login': 'germfy', 'id': 11635442, 'node_id':...   \n",
      "19  {'login': 'germfy', 'id': 11635442, 'node_id':...   \n",
      "20  {'login': 'germfy', 'id': 11635442, 'node_id':...   \n",
      "21  {'login': 'germfy', 'id': 11635442, 'node_id':...   \n",
      "22  {'login': 'germfy', 'id': 11635442, 'node_id':...   \n",
      "23  {'login': 'germfy', 'id': 11635442, 'node_id':...   \n",
      "24  {'login': 'germfy', 'id': 11635442, 'node_id':...   \n",
      "25  {'login': 'germfy', 'id': 11635442, 'node_id':...   \n",
      "26  {'login': 'germfy', 'id': 11635442, 'node_id':...   \n",
      "27  {'login': 'germfy', 'id': 11635442, 'node_id':...   \n",
      "28  {'login': 'germfy', 'id': 11635442, 'node_id':...   \n",
      "29  {'login': 'germfy', 'id': 11635442, 'node_id':...   \n",
      "\n",
      "                                             html_url  \\\n",
      "0   https://github.com/germfy/analisisinstitutodel...   \n",
      "1   https://github.com/germfy/angular4-on-nginx-wi...   \n",
      "2               https://github.com/germfy/Aprendiendo   \n",
      "3       https://github.com/germfy/awesome-vue-graphql   \n",
      "4        https://github.com/germfy/basic-auth-Oct2018   \n",
      "5           https://github.com/germfy/BBEight-Bluemix   \n",
      "6       https://github.com/germfy/bluemix-letsencrypt   \n",
      "7   https://github.com/germfy/bootcampMx-get-start...   \n",
      "8            https://github.com/germfy/chatbotbackend   \n",
      "9        https://github.com/germfy/clases_datamex1019   \n",
      "10             https://github.com/germfy/clickincrazy   \n",
      "11  https://github.com/germfy/climaarmando-1468559...   \n",
      "12  https://github.com/germfy/climaarmando-1469500...   \n",
      "13       https://github.com/germfy/climatallerbluemix   \n",
      "14         https://github.com/germfy/cloth-simulation   \n",
      "15     https://github.com/germfy/cloud-config-germand   \n",
      "16  https://github.com/germfy/config-server-german...   \n",
      "17         https://github.com/germfy/crunchbasepirata   \n",
      "18           https://github.com/germfy/css-collection   \n",
      "19           https://github.com/germfy/d3_in_action_2   \n",
      "20              https://github.com/germfy/datamex0120   \n",
      "21                     https://github.com/germfy/demo   \n",
      "22              https://github.com/germfy/demognp2016   \n",
      "23  https://github.com/germfy/devconnect2016-14713...   \n",
      "24                 https://github.com/germfy/dotfiles   \n",
      "25        https://github.com/germfy/encuestabluemixmx   \n",
      "26         https://github.com/germfy/escape_the_mines   \n",
      "27                   https://github.com/germfy/fabric   \n",
      "28      https://github.com/germfy/failureinstanalisys   \n",
      "29              https://github.com/germfy/file-upload   \n",
      "\n",
      "                                          description   fork  \\\n",
      "0                                                None  False   \n",
      "1                       angular4-on-nginx-with-docker   True   \n",
      "2                        proyectos iniciales de Scala  False   \n",
      "3   A curated collection of resources, clients and...   True   \n",
      "4                                                None  False   \n",
      "5                                                None  False   \n",
      "6   Let's Encrypt wrapper for Cloud Foundry apps o...   True   \n",
      "7   Hello World! en nodeJS simple para ejemplifica...   True   \n",
      "8                                                None  False   \n",
      "9                                                None   True   \n",
      "10                                               None  False   \n",
      "11                                               None  False   \n",
      "12                                               None  False   \n",
      "13                                               None  False   \n",
      "14           Really simple JS canvas cloth simulation   True   \n",
      "15                                               None  False   \n",
      "16                                               None  False   \n",
      "17                                               None  False   \n",
      "18                              CSS芸人への道（CSSでつくったもの集）   True   \n",
      "19    Examples for D3.js in Action 2nd Edition (D3v4)   True   \n",
      "20                                               None   True   \n",
      "21       A demo repository for My JSON Server (Alpha)   True   \n",
      "22                                               None  False   \n",
      "23                                               None  False   \n",
      "24                  Hey wes what settings do you use?   True   \n",
      "25  Created for toolchain: https://console.ng.blue...  False   \n",
      "26                                     Kata Challenge  False   \n",
      "27  Read-only mirror of https://gerrit.hyperledger...   True   \n",
      "28                                               None  False   \n",
      "29                                               None  False   \n",
      "\n",
      "                                                  url  ... forks_count  \\\n",
      "0   https://api.github.com/repos/germfy/analisisin...  ...           0   \n",
      "1   https://api.github.com/repos/germfy/angular4-o...  ...           0   \n",
      "2     https://api.github.com/repos/germfy/Aprendiendo  ...           0   \n",
      "3   https://api.github.com/repos/germfy/awesome-vu...  ...           0   \n",
      "4   https://api.github.com/repos/germfy/basic-auth...  ...           3   \n",
      "5   https://api.github.com/repos/germfy/BBEight-Bl...  ...           0   \n",
      "6   https://api.github.com/repos/germfy/bluemix-le...  ...           0   \n",
      "7   https://api.github.com/repos/germfy/bootcampMx...  ...           0   \n",
      "8   https://api.github.com/repos/germfy/chatbotbac...  ...           0   \n",
      "9   https://api.github.com/repos/germfy/clases_dat...  ...           0   \n",
      "10   https://api.github.com/repos/germfy/clickincrazy  ...           0   \n",
      "11  https://api.github.com/repos/germfy/climaarman...  ...           0   \n",
      "12  https://api.github.com/repos/germfy/climaarman...  ...           0   \n",
      "13  https://api.github.com/repos/germfy/climatalle...  ...           0   \n",
      "14  https://api.github.com/repos/germfy/cloth-simu...  ...           0   \n",
      "15  https://api.github.com/repos/germfy/cloud-conf...  ...           0   \n",
      "16  https://api.github.com/repos/germfy/config-ser...  ...           0   \n",
      "17  https://api.github.com/repos/germfy/crunchbase...  ...           6   \n",
      "18  https://api.github.com/repos/germfy/css-collec...  ...           0   \n",
      "19  https://api.github.com/repos/germfy/d3_in_acti...  ...           0   \n",
      "20    https://api.github.com/repos/germfy/datamex0120  ...           0   \n",
      "21           https://api.github.com/repos/germfy/demo  ...           0   \n",
      "22    https://api.github.com/repos/germfy/demognp2016  ...           0   \n",
      "23  https://api.github.com/repos/germfy/devconnect...  ...           0   \n",
      "24       https://api.github.com/repos/germfy/dotfiles  ...           0   \n",
      "25  https://api.github.com/repos/germfy/encuestabl...  ...           0   \n",
      "26  https://api.github.com/repos/germfy/escape_the...  ...           1   \n",
      "27         https://api.github.com/repos/germfy/fabric  ...           0   \n",
      "28  https://api.github.com/repos/germfy/failureins...  ...           0   \n",
      "29    https://api.github.com/repos/germfy/file-upload  ...           0   \n",
      "\n",
      "   mirror_url archived disabled open_issues_count  \\\n",
      "0        None    False    False                 0   \n",
      "1        None    False    False                 0   \n",
      "2        None    False    False                 0   \n",
      "3        None    False    False                 0   \n",
      "4        None    False    False                 0   \n",
      "5        None    False    False                 0   \n",
      "6        None    False    False                 0   \n",
      "7        None    False    False                 0   \n",
      "8        None    False    False                 0   \n",
      "9        None    False    False                 0   \n",
      "10       None    False    False                 0   \n",
      "11       None    False    False                 0   \n",
      "12       None    False    False                 0   \n",
      "13       None    False    False                 0   \n",
      "14       None    False    False                 0   \n",
      "15       None    False    False                 0   \n",
      "16       None    False    False                 0   \n",
      "17       None    False    False                 0   \n",
      "18       None    False    False                 0   \n",
      "19       None    False    False                 0   \n",
      "20       None    False    False                 0   \n",
      "21       None    False    False                 0   \n",
      "22       None    False    False                 0   \n",
      "23       None    False    False                 0   \n",
      "24       None    False    False                 0   \n",
      "25       None    False    False                 0   \n",
      "26       None    False    False                 0   \n",
      "27       None    False    False                 0   \n",
      "28       None    False    False                 0   \n",
      "29       None    False    False                 0   \n",
      "\n",
      "                                              license forks open_issues  \\\n",
      "0                                                None     0           0   \n",
      "1                                                None     0           0   \n",
      "2                                                None     0           0   \n",
      "3   {'key': 'cc-by-4.0', 'name': 'Creative Commons...     0           0   \n",
      "4                                                None     3           0   \n",
      "5                                                None     0           0   \n",
      "6   {'key': 'mit', 'name': 'MIT License', 'spdx_id...     0           0   \n",
      "7   {'key': 'apache-2.0', 'name': 'Apache License ...     0           0   \n",
      "8                                                None     0           0   \n",
      "9                                                None     0           0   \n",
      "10                                               None     0           0   \n",
      "11                                               None     0           0   \n",
      "12                                               None     0           0   \n",
      "13                                               None     0           0   \n",
      "14  {'key': 'mit', 'name': 'MIT License', 'spdx_id...     0           0   \n",
      "15                                               None     0           0   \n",
      "16  {'key': 'apache-2.0', 'name': 'Apache License ...     0           0   \n",
      "17                                               None     6           0   \n",
      "18                                               None     0           0   \n",
      "19  {'key': 'unlicense', 'name': 'The Unlicense', ...     0           0   \n",
      "20  {'key': 'agpl-3.0', 'name': 'GNU Affero Genera...     0           0   \n",
      "21  {'key': 'mit', 'name': 'MIT License', 'spdx_id...     0           0   \n",
      "22  {'key': 'apache-2.0', 'name': 'Apache License ...     0           0   \n",
      "23                                               None     0           0   \n",
      "24                                               None     0           0   \n",
      "25                                               None     0           0   \n",
      "26                                               None     1           0   \n",
      "27  {'key': 'apache-2.0', 'name': 'Apache License ...     0           0   \n",
      "28  {'key': 'apache-2.0', 'name': 'Apache License ...     0           0   \n",
      "29                                               None     0           0   \n",
      "\n",
      "   watchers default_branch  \n",
      "0         0         master  \n",
      "1         0         master  \n",
      "2         0         master  \n",
      "3         0         master  \n",
      "4         0         master  \n",
      "5         0         master  \n",
      "6         0         master  \n",
      "7         0         master  \n",
      "8         0        develop  \n",
      "9         0         master  \n",
      "10        0         master  \n",
      "11        0         master  \n",
      "12        0         master  \n",
      "13        0         master  \n",
      "14        0         master  \n",
      "15        0         master  \n",
      "16        0         master  \n",
      "17        0         master  \n",
      "18        0         master  \n",
      "19        0         master  \n",
      "20        0         master  \n",
      "21        0         master  \n",
      "22        0         master  \n",
      "23        0         master  \n",
      "24        0         master  \n",
      "25        0         master  \n",
      "26        0         master  \n",
      "27        0    release-1.4  \n",
      "28        0         master  \n",
      "29        0         master  \n",
      "\n",
      "[30 rows x 73 columns]\n"
     ]
    }
   ],
   "source": [
    "respuesta = requests.get('https://api.github.com/users/germfy/repos')\n",
    "resultados = respuesta.json()\n",
    "data = pd.DataFrame(resultados)\n",
    "print(data)"
   ]
  },
  {
   "cell_type": "code",
   "execution_count": null,
   "metadata": {},
   "outputs": [],
   "source": []
  }
 ],
 "metadata": {
  "kernelspec": {
   "display_name": "Python 3",
   "language": "python",
   "name": "python3"
  },
  "language_info": {
   "codemirror_mode": {
    "name": "ipython",
    "version": 3
   },
   "file_extension": ".py",
   "mimetype": "text/x-python",
   "name": "python",
   "nbconvert_exporter": "python",
   "pygments_lexer": "ipython3",
   "version": "3.7.4"
  }
 },
 "nbformat": 4,
 "nbformat_minor": 2
}
